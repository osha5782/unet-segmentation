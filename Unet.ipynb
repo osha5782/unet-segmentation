{
  "nbformat": 4,
  "nbformat_minor": 0,
  "metadata": {
    "colab": {
      "name": "Unet.ipynb",
      "provenance": [],
      "include_colab_link": true
    },
    "kernelspec": {
      "name": "python3",
      "display_name": "Python 3"
    },
    "accelerator": "GPU"
  },
  "cells": [
    {
      "cell_type": "markdown",
      "metadata": {
        "id": "view-in-github",
        "colab_type": "text"
      },
      "source": [
        "<a href=\"https://colab.research.google.com/github/yasohasakii/unet-segmentation/blob/master/Unet.ipynb\" target=\"_parent\"><img src=\"https://colab.research.google.com/assets/colab-badge.svg\" alt=\"Open In Colab\"/></a>"
      ]
    },
    {
      "cell_type": "code",
      "metadata": {
        "id": "OXF0mNZVGrRc",
        "colab_type": "code",
        "outputId": "3741e61a-9bc8-4d61-ec67-c9aa00875fe7",
        "colab": {
          "base_uri": "https://localhost:8080/",
          "height": 156
        }
      },
      "source": [
        "!git clone https://github.com/yasohasakii/unet-segmentation.git\n",
        "!cp -r unet-segmentation/* ./\n",
        "!rm -rf sample_data unet-segmentation/"
      ],
      "execution_count": 2,
      "outputs": [
        {
          "output_type": "stream",
          "text": [
            "Cloning into 'unet-segmentation'...\n",
            "remote: Enumerating objects: 6, done.\u001b[K\n",
            "remote: Counting objects: 100% (6/6), done.\u001b[K\n",
            "remote: Compressing objects: 100% (6/6), done.\u001b[K\n",
            "remote: Total 206 (delta 2), reused 0 (delta 0), pack-reused 200\u001b[K\n",
            "Receiving objects: 100% (206/206), 450.67 MiB | 31.97 MiB/s, done.\n",
            "Resolving deltas: 100% (6/6), done.\n",
            "Checking out files: 100% (204/204), done.\n"
          ],
          "name": "stdout"
        }
      ]
    },
    {
      "cell_type": "code",
      "metadata": {
        "id": "Ns9YXewiU0H8",
        "colab_type": "code",
        "outputId": "a0483f4e-1a27-4612-b661-46abd102a5c3",
        "colab": {
          "base_uri": "https://localhost:8080/",
          "height": 34
        }
      },
      "source": [
        "import os\n",
        "import sys\n",
        "import random\n",
        "\n",
        "import numpy as np\n",
        "import cv2\n",
        "import matplotlib.pyplot as plt\n",
        "\n",
        "import tensorflow as tf\n",
        "from tensorflow import keras\n",
        "from sklearn.model_selection import train_test_split\n",
        "from keras.callbacks import ModelCheckpoint"
      ],
      "execution_count": 25,
      "outputs": [
        {
          "output_type": "stream",
          "text": [
            "Using TensorFlow backend.\n"
          ],
          "name": "stderr"
        }
      ]
    },
    {
      "cell_type": "code",
      "metadata": {
        "id": "Vcav7XpTWFKJ",
        "colab_type": "code",
        "outputId": "a0a8da01-1a3f-4626-8c0c-12c758ebc5b9",
        "colab": {
          "base_uri": "https://localhost:8080/",
          "height": 1000
        }
      },
      "source": [
        "def down_block(x, filters, kernel_size=(3, 3), padding=\"same\", strides=1):\n",
        "    c = keras.layers.Conv2D(filters, kernel_size, padding=padding, strides=strides, activation=\"relu\")(x)\n",
        "    c = keras.layers.Conv2D(filters, kernel_size, padding=padding, strides=strides, activation=\"relu\")(c)\n",
        "    p = keras.layers.MaxPool2D((2, 2), (2, 2))(c)\n",
        "    return c, p\n",
        "\n",
        "def up_block(x, skip, filters, kernel_size=(3, 3), padding=\"same\", strides=1):\n",
        "    us = keras.layers.UpSampling2D((2, 2))(x)\n",
        "    concat = keras.layers.Concatenate()([us, skip])\n",
        "    c = keras.layers.Conv2D(filters, kernel_size, padding=padding, strides=strides, activation=\"relu\")(concat)\n",
        "    c = keras.layers.Conv2D(filters, kernel_size, padding=padding, strides=strides, activation=\"relu\")(c)\n",
        "    return c\n",
        "\n",
        "def bottleneck(x, filters, kernel_size=(3, 3), padding=\"same\", strides=1):\n",
        "    c = keras.layers.Conv2D(filters, kernel_size, padding=padding, strides=strides, activation=\"relu\")(x)\n",
        "    c = keras.layers.Conv2D(filters, kernel_size, padding=padding, strides=strides, activation=\"relu\")(c)\n",
        "    return c\n",
        "def UNet():\n",
        "    f = [16, 32, 64, 128, 256]\n",
        "    inputs = keras.layers.Input((512, 512, 3))\n",
        "    \n",
        "    p0 = inputs\n",
        "    c1, p1 = down_block(p0, f[0]) #128 -> 64\n",
        "    c2, p2 = down_block(p1, f[1]) #64 -> 32\n",
        "    c3, p3 = down_block(p2, f[2]) #32 -> 16\n",
        "    c4, p4 = down_block(p3, f[3]) #16->8\n",
        "    \n",
        "    bn = bottleneck(p4, f[4])\n",
        "    \n",
        "    u1 = up_block(bn, c4, f[3]) #8 -> 16\n",
        "    u2 = up_block(u1, c3, f[2]) #16 -> 32\n",
        "    u3 = up_block(u2, c2, f[1]) #32 -> 64\n",
        "    u4 = up_block(u3, c1, f[0]) #64 -> 128\n",
        "    \n",
        "    outputs = keras.layers.Conv2D(1, (1, 1), padding=\"same\", activation=\"sigmoid\")(u4)\n",
        "    model = keras.models.Model(inputs, outputs)\n",
        "    return model\n",
        "model = UNet()\n",
        "model.compile(optimizer=\"adam\", loss=\"binary_crossentropy\", metrics=[\"acc\"])\n",
        "model.summary()"
      ],
      "execution_count": 39,
      "outputs": [
        {
          "output_type": "stream",
          "text": [
            "Model: \"model_1\"\n",
            "__________________________________________________________________________________________________\n",
            "Layer (type)                    Output Shape         Param #     Connected to                     \n",
            "==================================================================================================\n",
            "input_2 (InputLayer)            [(None, 512, 512, 3) 0                                            \n",
            "__________________________________________________________________________________________________\n",
            "conv2d_19 (Conv2D)              (None, 512, 512, 16) 448         input_2[0][0]                    \n",
            "__________________________________________________________________________________________________\n",
            "conv2d_20 (Conv2D)              (None, 512, 512, 16) 2320        conv2d_19[0][0]                  \n",
            "__________________________________________________________________________________________________\n",
            "max_pooling2d_4 (MaxPooling2D)  (None, 256, 256, 16) 0           conv2d_20[0][0]                  \n",
            "__________________________________________________________________________________________________\n",
            "conv2d_21 (Conv2D)              (None, 256, 256, 32) 4640        max_pooling2d_4[0][0]            \n",
            "__________________________________________________________________________________________________\n",
            "conv2d_22 (Conv2D)              (None, 256, 256, 32) 9248        conv2d_21[0][0]                  \n",
            "__________________________________________________________________________________________________\n",
            "max_pooling2d_5 (MaxPooling2D)  (None, 128, 128, 32) 0           conv2d_22[0][0]                  \n",
            "__________________________________________________________________________________________________\n",
            "conv2d_23 (Conv2D)              (None, 128, 128, 64) 18496       max_pooling2d_5[0][0]            \n",
            "__________________________________________________________________________________________________\n",
            "conv2d_24 (Conv2D)              (None, 128, 128, 64) 36928       conv2d_23[0][0]                  \n",
            "__________________________________________________________________________________________________\n",
            "max_pooling2d_6 (MaxPooling2D)  (None, 64, 64, 64)   0           conv2d_24[0][0]                  \n",
            "__________________________________________________________________________________________________\n",
            "conv2d_25 (Conv2D)              (None, 64, 64, 128)  73856       max_pooling2d_6[0][0]            \n",
            "__________________________________________________________________________________________________\n",
            "conv2d_26 (Conv2D)              (None, 64, 64, 128)  147584      conv2d_25[0][0]                  \n",
            "__________________________________________________________________________________________________\n",
            "max_pooling2d_7 (MaxPooling2D)  (None, 32, 32, 128)  0           conv2d_26[0][0]                  \n",
            "__________________________________________________________________________________________________\n",
            "conv2d_27 (Conv2D)              (None, 32, 32, 256)  295168      max_pooling2d_7[0][0]            \n",
            "__________________________________________________________________________________________________\n",
            "conv2d_28 (Conv2D)              (None, 32, 32, 256)  590080      conv2d_27[0][0]                  \n",
            "__________________________________________________________________________________________________\n",
            "up_sampling2d_4 (UpSampling2D)  (None, 64, 64, 256)  0           conv2d_28[0][0]                  \n",
            "__________________________________________________________________________________________________\n",
            "concatenate_4 (Concatenate)     (None, 64, 64, 384)  0           up_sampling2d_4[0][0]            \n",
            "                                                                 conv2d_26[0][0]                  \n",
            "__________________________________________________________________________________________________\n",
            "conv2d_29 (Conv2D)              (None, 64, 64, 128)  442496      concatenate_4[0][0]              \n",
            "__________________________________________________________________________________________________\n",
            "conv2d_30 (Conv2D)              (None, 64, 64, 128)  147584      conv2d_29[0][0]                  \n",
            "__________________________________________________________________________________________________\n",
            "up_sampling2d_5 (UpSampling2D)  (None, 128, 128, 128 0           conv2d_30[0][0]                  \n",
            "__________________________________________________________________________________________________\n",
            "concatenate_5 (Concatenate)     (None, 128, 128, 192 0           up_sampling2d_5[0][0]            \n",
            "                                                                 conv2d_24[0][0]                  \n",
            "__________________________________________________________________________________________________\n",
            "conv2d_31 (Conv2D)              (None, 128, 128, 64) 110656      concatenate_5[0][0]              \n",
            "__________________________________________________________________________________________________\n",
            "conv2d_32 (Conv2D)              (None, 128, 128, 64) 36928       conv2d_31[0][0]                  \n",
            "__________________________________________________________________________________________________\n",
            "up_sampling2d_6 (UpSampling2D)  (None, 256, 256, 64) 0           conv2d_32[0][0]                  \n",
            "__________________________________________________________________________________________________\n",
            "concatenate_6 (Concatenate)     (None, 256, 256, 96) 0           up_sampling2d_6[0][0]            \n",
            "                                                                 conv2d_22[0][0]                  \n",
            "__________________________________________________________________________________________________\n",
            "conv2d_33 (Conv2D)              (None, 256, 256, 32) 27680       concatenate_6[0][0]              \n",
            "__________________________________________________________________________________________________\n",
            "conv2d_34 (Conv2D)              (None, 256, 256, 32) 9248        conv2d_33[0][0]                  \n",
            "__________________________________________________________________________________________________\n",
            "up_sampling2d_7 (UpSampling2D)  (None, 512, 512, 32) 0           conv2d_34[0][0]                  \n",
            "__________________________________________________________________________________________________\n",
            "concatenate_7 (Concatenate)     (None, 512, 512, 48) 0           up_sampling2d_7[0][0]            \n",
            "                                                                 conv2d_20[0][0]                  \n",
            "__________________________________________________________________________________________________\n",
            "conv2d_35 (Conv2D)              (None, 512, 512, 16) 6928        concatenate_7[0][0]              \n",
            "__________________________________________________________________________________________________\n",
            "conv2d_36 (Conv2D)              (None, 512, 512, 16) 2320        conv2d_35[0][0]                  \n",
            "__________________________________________________________________________________________________\n",
            "conv2d_37 (Conv2D)              (None, 512, 512, 1)  17          conv2d_36[0][0]                  \n",
            "==================================================================================================\n",
            "Total params: 1,962,625\n",
            "Trainable params: 1,962,625\n",
            "Non-trainable params: 0\n",
            "__________________________________________________________________________________________________\n"
          ],
          "name": "stdout"
        }
      ]
    },
    {
      "cell_type": "code",
      "metadata": {
        "id": "-N74gPOQWabV",
        "colab_type": "code",
        "colab": {}
      },
      "source": [
        "class DataGen(keras.utils.Sequence):\n",
        "    def __init__(self, path, batch_size=1, image_size=512):\n",
        "        self.path = path\n",
        "        self.batch_size = batch_size\n",
        "        self.image_size = image_size\n",
        "        files = os.listdir(self.path)\n",
        "        files = [os.path.join(self.path,x) for x in files]\n",
        "        self.trains, self.vals = train_test_split(files, test_size=0.1, random_state=42)\n",
        "    \n",
        "    def generate(self,files):\n",
        "        \n",
        "        random.shuffle(files)\n",
        "        while True:\n",
        "            image_batch = np.zeros([self.batch_size,self.image_size,self.image_size,3])\n",
        "            label_batch = np.zeros([self.batch_size,self.image_size,self.image_size])\n",
        "            index = random.randint(0,len(files)-self.batch_size)\n",
        "            for i,img in enumerate(files[index:index+self.batch_size]):\n",
        "        \n",
        "                ## Reading Image\n",
        "                image = cv2.imread(img)\n",
        "                image = cv2.resize(image, (self.image_size, self.image_size))\n",
        "        \n",
        "        \n",
        "                _mask_image = cv2.imread(img.replace('raw','label'))\n",
        "                _mask_image = cv2.cvtColor(_mask_image,cv2.COLOR_BGR2GRAY)\n",
        "                _mask_image = cv2.resize(_mask_image, (self.image_size, self.image_size)) #128x128\n",
        "                mask = np.expand_dims(_mask_image, axis=0)\n",
        "            \n",
        "                ## Normalizaing \n",
        "                image = image/255.0\n",
        "                mask = mask/255.0\n",
        "            image_batch[i]=image\n",
        "            label_batch[i]=mask\n",
        "        \n",
        "            yield image_batch, label_batch"
      ],
      "execution_count": 0,
      "outputs": []
    },
    {
      "cell_type": "code",
      "metadata": {
        "id": "ydtte7OEYwKA",
        "colab_type": "code",
        "colab": {}
      },
      "source": [
        "train_path = '/content/raw'\n",
        "batch_size= 1\n",
        "gen = DataGen( train_path, image_size=512, batch_size=batch_size)\n",
        "train_gen = gen.generate(gen.trains)\n",
        "val_gen = gen.generate(gen.vals)\n",
        "\n",
        "\n",
        "train_steps = len(gen.trains)//batch_size\n",
        "valid_steps = len(gen.vals)//batch_size"
      ],
      "execution_count": 0,
      "outputs": []
    },
    {
      "cell_type": "code",
      "metadata": {
        "id": "2pbR9ggDpkr3",
        "colab_type": "code",
        "colab": {
          "base_uri": "https://localhost:8080/",
          "height": 833
        },
        "outputId": "ee96f41f-48ea-4887-d94d-6f886eed4b04"
      },
      "source": [
        "model_checkpoint = ModelCheckpoint('unet_membrane.hdf5', monitor='val_acc',mode='max',verbose=1, save_best_only=True)\n",
        "model.fit_generator(train_gen,steps_per_epoch=train_steps,epochs=60,\n",
        "                    callbacks=[model_checkpoint],\n",
        "                    validation_data = val_gen,validation_steps = valid_steps)"
      ],
      "execution_count": 0,
      "outputs": [
        {
          "output_type": "stream",
          "text": [
            "Epoch 1/60\n",
            "89/90 [============================>.] - ETA: 0s - loss: 0.4455 - acc: 0.8365Epoch 1/60\n",
            "10/90 [==>...........................] - ETA: 17s - loss: 0.3815 - acc: 0.8691\n",
            "Epoch 00001: val_acc improved from -inf to 0.86910, saving model to unet_membrane.hdf5\n",
            "90/90 [==============================] - 28s 307ms/step - loss: 0.4435 - acc: 0.8374 - val_loss: 0.3815 - val_acc: 0.8691\n",
            "Epoch 2/60\n",
            "89/90 [============================>.] - ETA: 0s - loss: 0.4080 - acc: 0.8622Epoch 1/60\n",
            "10/90 [==>...........................] - ETA: 16s - loss: 0.2892 - acc: 0.9176\n",
            "Epoch 00002: val_acc improved from 0.86910 to 0.91760, saving model to unet_membrane.hdf5\n",
            "90/90 [==============================] - 21s 238ms/step - loss: 0.4086 - acc: 0.8617 - val_loss: 0.2892 - val_acc: 0.9176\n",
            "Epoch 3/60\n",
            "89/90 [============================>.] - ETA: 0s - loss: 0.3893 - acc: 0.8679Epoch 1/60\n",
            "10/90 [==>...........................] - ETA: 15s - loss: 0.2865 - acc: 0.9388\n",
            "Epoch 00003: val_acc improved from 0.91760 to 0.93882, saving model to unet_membrane.hdf5\n",
            "90/90 [==============================] - 21s 234ms/step - loss: 0.3891 - acc: 0.8681 - val_loss: 0.2865 - val_acc: 0.9388\n",
            "Epoch 4/60\n",
            "89/90 [============================>.] - ETA: 0s - loss: 0.4332 - acc: 0.8427Epoch 1/60\n",
            "10/90 [==>...........................] - ETA: 15s - loss: 0.3121 - acc: 0.9089\n",
            "Epoch 00004: val_acc did not improve from 0.93882\n",
            "90/90 [==============================] - 21s 233ms/step - loss: 0.4302 - acc: 0.8444 - val_loss: 0.3121 - val_acc: 0.9089\n",
            "Epoch 5/60\n",
            "89/90 [============================>.] - ETA: 0s - loss: 0.3933 - acc: 0.8646Epoch 1/60\n",
            "10/90 [==>...........................] - ETA: 15s - loss: 0.2210 - acc: 0.9406\n",
            "Epoch 00005: val_acc improved from 0.93882 to 0.94065, saving model to unet_membrane.hdf5\n",
            "90/90 [==============================] - 21s 234ms/step - loss: 0.3900 - acc: 0.8661 - val_loss: 0.2210 - val_acc: 0.9406\n",
            "Epoch 6/60\n",
            "89/90 [============================>.] - ETA: 0s - loss: 0.4344 - acc: 0.8424Epoch 1/60\n",
            "10/90 [==>...........................] - ETA: 16s - loss: 0.4596 - acc: 0.8149\n",
            "Epoch 00006: val_acc did not improve from 0.94065\n",
            "90/90 [==============================] - 21s 234ms/step - loss: 0.4373 - acc: 0.8403 - val_loss: 0.4596 - val_acc: 0.8149\n",
            "Epoch 7/60\n",
            "89/90 [============================>.] - ETA: 0s - loss: 0.4336 - acc: 0.8383Epoch 1/60\n",
            "10/90 [==>...........................] - ETA: 17s - loss: 0.4361 - acc: 0.8320\n",
            "Epoch 00007: val_acc did not improve from 0.94065\n",
            "90/90 [==============================] - 21s 236ms/step - loss: 0.4304 - acc: 0.8401 - val_loss: 0.4361 - val_acc: 0.8320\n",
            "Epoch 8/60\n",
            "89/90 [============================>.] - ETA: 0s - loss: 0.4027 - acc: 0.8605Epoch 1/60\n",
            "10/90 [==>...........................] - ETA: 16s - loss: 0.3077 - acc: 0.9094\n",
            "Epoch 00008: val_acc did not improve from 0.94065\n",
            "90/90 [==============================] - 21s 236ms/step - loss: 0.4035 - acc: 0.8600 - val_loss: 0.3077 - val_acc: 0.9094\n",
            "Epoch 9/60\n",
            "89/90 [============================>.] - ETA: 0s - loss: 0.3870 - acc: 0.8676Epoch 1/60\n",
            "10/90 [==>...........................] - ETA: 16s - loss: 0.3126 - acc: 0.9048\n",
            "Epoch 00009: val_acc did not improve from 0.94065\n",
            "90/90 [==============================] - 21s 234ms/step - loss: 0.3899 - acc: 0.8659 - val_loss: 0.3126 - val_acc: 0.9048\n",
            "Epoch 10/60\n",
            "21/90 [======>.......................] - ETA: 14s - loss: 0.4875 - acc: 0.8090"
          ],
          "name": "stdout"
        }
      ]
    },
    {
      "cell_type": "code",
      "metadata": {
        "id": "vcxesAStv1yG",
        "colab_type": "code",
        "colab": {}
      },
      "source": [
        ""
      ],
      "execution_count": 0,
      "outputs": []
    }
  ]
}